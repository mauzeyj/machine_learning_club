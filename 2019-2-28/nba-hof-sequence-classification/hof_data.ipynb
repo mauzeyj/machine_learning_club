{
 "cells": [
  {
   "cell_type": "code",
   "execution_count": 2,
   "metadata": {},
   "outputs": [],
   "source": [
    "import pandas as pd\n",
    "import numpy as np\n",
    "pd.options.display.max_columns = None"
   ]
  },
  {
   "cell_type": "code",
   "execution_count": 3,
   "metadata": {},
   "outputs": [],
   "source": [
    "# original data comes from https://www.kaggle.com/drgilermo/nba-players-stats\n",
    "player_data = pd.read_csv('data/player_data.csv')\n",
    "season_stats = pd.read_csv('data/Seasons_Stats.csv')\n",
    "season_stats = season_stats.rename(columns = {'Unnamed: 0': 'origindex'}).drop(columns=['blanl', 'blank2'])\n",
    "season_stats = season_stats.dropna()"
   ]
  },
  {
   "cell_type": "code",
   "execution_count": 4,
   "metadata": {},
   "outputs": [],
   "source": [
    "season_stats = season_stats.dropna(subset=['Player'])\n",
    "season_stats['Name'] = season_stats['Player'].replace(regex='\\*$', value='')\n",
    "season_stats['hof'] = season_stats['Player'].str.contains(\"\\*\")\n",
    "season_stats = season_stats.drop(columns=['Player'])\n",
    "\n"
   ]
  },
  {
   "cell_type": "code",
   "execution_count": 5,
   "metadata": {},
   "outputs": [],
   "source": [
    "total_yrs = season_stats.loc[season_stats['Tm'] == 'TOT', ['Year', 'Name']]\n",
    "a = total_yrs.merge(season_stats, how='inner', on=['Year', 'Name'])\n",
    "b = season_stats.drop(season_stats[season_stats['origindex'].isin(a[a['Tm'] != 'TOT']['origindex']) == True].index)\n",
    "# drop players who don't have more than 5 seasons\n",
    "c = b.groupby('Name').filter(lambda x: len(x) > 5)\n",
    "d = pd.get_dummies(c, columns=['Pos', 'Tm'])"
   ]
  },
  {
   "cell_type": "code",
   "execution_count": 6,
   "metadata": {},
   "outputs": [],
   "source": [
    "samples = len(d['Name'].unique())\n",
    "timesteps = 20\n",
    "features = 107\n",
    "\n",
    "    \n",
    "flat_data = np.zeros((samples, 2 + (timesteps * features)))\n",
    "names = np.empty((samples),np.object)\n",
    "for i, (name, group) in enumerate(d.groupby('Name')):\n",
    "    df = group.copy()\n",
    "    df = df.reset_index()\n",
    "    #df['timestep'] = df.index\n",
    "    oIndex = df.loc[0,['origindex']]\n",
    "    \n",
    "    label = df.loc[0,'hof']\n",
    "    names[i] = name\n",
    "    df = df.drop(columns=['index', 'origindex', 'Name', 'hof'])\n",
    "    npflat = df.head(20).to_numpy().flatten()\n",
    "    ids = np.array([i, label])\n",
    "    row = np.concatenate([ids, npflat])\n",
    "    flat_data[i][:len(row)]= row\n",
    "\n"
   ]
  },
  {
   "cell_type": "code",
   "execution_count": 11,
   "metadata": {},
   "outputs": [
    {
     "name": "stdout",
     "output_type": "stream",
     "text": [
      "895 + 35 * 10 = 1245\n",
      "895 + 35 * 10 = 1245\n"
     ]
    }
   ],
   "source": [
    "hofindex = np.where(flat_data[:,1] == 1)[0]\n",
    "hofrows = flat_data[hofindex]\n",
    "hofnames = names[hofindex]\n",
    "extrahof = flat_data\n",
    "extrahofnames = names\n",
    "for i in range(1, 11):\n",
    "    extrahof = np.concatenate([extrahof, hofrows])\n",
    "    extrahofnames = np.concatenate([extrahofnames, hofnames])"
   ]
  },
  {
   "cell_type": "code",
   "execution_count": 12,
   "metadata": {},
   "outputs": [],
   "source": [
    "np.save('./data/flat_data.npy', flat_data)\n",
    "np.save('./data/flat_names.npy', names)\n",
    "np.save('./data/flat_data_extra.npy', extrahof)\n",
    "np.save('./data/flat_names_extra.npy', extrahofnames)\n",
    "print('done')"
   ]
  },
  {
   "cell_type": "code",
   "execution_count": null,
   "metadata": {},
   "outputs": [],
   "source": []
  }
 ],
 "metadata": {
  "kernelspec": {
   "display_name": "Python 3",
   "language": "python",
   "name": "python3"
  },
  "language_info": {
   "codemirror_mode": {
    "name": "ipython",
    "version": 3
   },
   "file_extension": ".py",
   "mimetype": "text/x-python",
   "name": "python",
   "nbconvert_exporter": "python",
   "pygments_lexer": "ipython3",
   "version": "3.6.8"
  }
 },
 "nbformat": 4,
 "nbformat_minor": 2
}
