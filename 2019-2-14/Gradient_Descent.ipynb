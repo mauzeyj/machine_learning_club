{
 "cells": [
  {
   "cell_type": "markdown",
   "metadata": {},
   "source": [
    "# Motivation"
   ]
  },
  {
   "cell_type": "markdown",
   "metadata": {
    "ExecuteTime": {
     "end_time": "2019-02-11T15:46:36.313084Z",
     "start_time": "2019-02-11T15:46:36.309582Z"
    }
   },
   "source": [
    "We have a simple linear regression model $$y = mx + b$$ and we are trying to predict the price of a house given  its square footage, the number of bathrooms, and the average price of its neighbors."
   ]
  },
  {
   "cell_type": "code",
   "execution_count": 11,
   "metadata": {
    "ExecuteTime": {
     "end_time": "2019-02-14T13:54:16.733183Z",
     "start_time": "2019-02-14T13:54:16.577213Z"
    }
   },
   "outputs": [
    {
     "data": {
      "text/html": [
       "<div>\n",
       "<style scoped>\n",
       "    .dataframe tbody tr th:only-of-type {\n",
       "        vertical-align: middle;\n",
       "    }\n",
       "\n",
       "    .dataframe tbody tr th {\n",
       "        vertical-align: top;\n",
       "    }\n",
       "\n",
       "    .dataframe thead th {\n",
       "        text-align: right;\n",
       "    }\n",
       "</style>\n",
       "<table border=\"1\" class=\"dataframe\">\n",
       "  <thead>\n",
       "    <tr style=\"text-align: right;\">\n",
       "      <th></th>\n",
       "      <th>Square Footage</th>\n",
       "      <th># Bathrooms</th>\n",
       "      <th>Avg Neighborhood Price</th>\n",
       "      <th>Bias</th>\n",
       "    </tr>\n",
       "  </thead>\n",
       "  <tbody>\n",
       "    <tr>\n",
       "      <th>0</th>\n",
       "      <td>-0.855528</td>\n",
       "      <td>-0.783349</td>\n",
       "      <td>-1.071429</td>\n",
       "      <td>1</td>\n",
       "    </tr>\n",
       "    <tr>\n",
       "      <th>1</th>\n",
       "      <td>-0.475293</td>\n",
       "      <td>-0.783349</td>\n",
       "      <td>-0.500000</td>\n",
       "      <td>1</td>\n",
       "    </tr>\n",
       "    <tr>\n",
       "      <th>2</th>\n",
       "      <td>-0.095059</td>\n",
       "      <td>0.261116</td>\n",
       "      <td>0.357143</td>\n",
       "      <td>1</td>\n",
       "    </tr>\n",
       "    <tr>\n",
       "      <th>3</th>\n",
       "      <td>1.425880</td>\n",
       "      <td>1.305582</td>\n",
       "      <td>1.214286</td>\n",
       "      <td>1</td>\n",
       "    </tr>\n",
       "  </tbody>\n",
       "</table>\n",
       "</div>"
      ],
      "text/plain": [
       "   Square Footage  # Bathrooms  Avg Neighborhood Price  Bias\n",
       "0       -0.855528    -0.783349               -1.071429     1\n",
       "1       -0.475293    -0.783349               -0.500000     1\n",
       "2       -0.095059     0.261116                0.357143     1\n",
       "3        1.425880     1.305582                1.214286     1"
      ]
     },
     "metadata": {},
     "output_type": "display_data"
    },
    {
     "data": {
      "text/html": [
       "<div>\n",
       "<style scoped>\n",
       "    .dataframe tbody tr th:only-of-type {\n",
       "        vertical-align: middle;\n",
       "    }\n",
       "\n",
       "    .dataframe tbody tr th {\n",
       "        vertical-align: top;\n",
       "    }\n",
       "\n",
       "    .dataframe thead th {\n",
       "        text-align: right;\n",
       "    }\n",
       "</style>\n",
       "<table border=\"1\" class=\"dataframe\">\n",
       "  <thead>\n",
       "    <tr style=\"text-align: right;\">\n",
       "      <th></th>\n",
       "      <th>Square Footage</th>\n",
       "      <th># Bathrooms</th>\n",
       "      <th>Avg Neighborhood Price</th>\n",
       "      <th>Bias</th>\n",
       "    </tr>\n",
       "  </thead>\n",
       "  <tbody>\n",
       "    <tr>\n",
       "      <th>0</th>\n",
       "      <td>1000</td>\n",
       "      <td>1</td>\n",
       "      <td>150</td>\n",
       "      <td>1</td>\n",
       "    </tr>\n",
       "    <tr>\n",
       "      <th>1</th>\n",
       "      <td>1500</td>\n",
       "      <td>1</td>\n",
       "      <td>250</td>\n",
       "      <td>1</td>\n",
       "    </tr>\n",
       "    <tr>\n",
       "      <th>2</th>\n",
       "      <td>2000</td>\n",
       "      <td>2</td>\n",
       "      <td>400</td>\n",
       "      <td>1</td>\n",
       "    </tr>\n",
       "    <tr>\n",
       "      <th>3</th>\n",
       "      <td>4000</td>\n",
       "      <td>3</td>\n",
       "      <td>550</td>\n",
       "      <td>1</td>\n",
       "    </tr>\n",
       "  </tbody>\n",
       "</table>\n",
       "</div>"
      ],
      "text/plain": [
       "   Square Footage  # Bathrooms  Avg Neighborhood Price  Bias\n",
       "0            1000            1                     150     1\n",
       "1            1500            1                     250     1\n",
       "2            2000            2                     400     1\n",
       "3            4000            3                     550     1"
      ]
     },
     "execution_count": 11,
     "metadata": {},
     "output_type": "execute_result"
    }
   ],
   "source": [
    "import pandas as pd\n",
    "import numpy as np\n",
    "import math\n",
    "import matplotlib.pyplot as plt\n",
    "\n",
    "raw_data = pd.DataFrame({\"Square Footage\" : [1000, 1500, 2000, 4000],\n",
    "                          \"# Bathrooms\" : [1,1,2,3],\n",
    "                          \"Avg Neighborhood Price\" : [150, 250, 400, 550]})\n",
    "\n",
    "targets = pd.Series([205, 250, 320, 600])\n",
    "\n",
    "def predict_all(data, weights):\n",
    "    return data.dot(weights)\n",
    "    \n",
    "def calc_RSS(predictions):\n",
    "    return pd.Series.sum((targets - predictions)**2)\n",
    "\n",
    "def log_RSS(data, weights):\n",
    "    return max(0,math.log(calc_RSS(predict_all(data,weights))))\n",
    "\n",
    "def pred_vs_expect(preds):\n",
    "    return pd.DataFrame({\"predictions\" : preds, \"target\" : targets})\n",
    "\n",
    "\n",
    "norm_data = (raw_data - raw_data.mean()) / raw_data.std()\n",
    "norm_data['Bias'] = 1\n",
    "\n",
    "raw_data['Bias'] = 1\n",
    "\n",
    "display(norm_data)\n",
    "\n",
    "raw_data"
   ]
  },
  {
   "cell_type": "markdown",
   "metadata": {},
   "source": [
    "# Random Updates"
   ]
  },
  {
   "cell_type": "code",
   "execution_count": 134,
   "metadata": {
    "ExecuteTime": {
     "end_time": "2019-02-13T22:58:51.044818Z",
     "start_time": "2019-02-13T22:58:50.965483Z"
    }
   },
   "outputs": [
    {
     "data": {
      "image/png": "[encoded data removed]",
      "text/plain": [
       "<Figure size 432x288 with 1 Axes>"
      ]
     },
     "metadata": {
      "needs_background": "light"
     },
     "output_type": "display_data"
    }
   ],
   "source": [
    "import random\n",
    "\n",
    "def rupdate():\n",
    "    return [random.random(),random.random(),random.random(),random.random()]\n",
    "\n",
    "# try with random weights\n",
    "weights = np.array([0.1,0.5,0.4,0.1])\n",
    "\n",
    "updates = [rupdate() for _ in range(10)] #repeat, I miss thee but no more imports for me\n",
    "\n",
    "# plot log error vs iteration (random weight updates)\n",
    "plt.plot([log_RSS(norm_data,weights + w_update) for w_update in updates])\n",
    "\n",
    "plt.show()"
   ]
  },
  {
   "cell_type": "markdown",
   "metadata": {},
   "source": [
    "# Gradient Descent"
   ]
  },
  {
   "cell_type": "markdown",
   "metadata": {},
   "source": [
    "Obviously, random weight updates is simply infeasible since our weights are continuous numbers.\n",
    "\n",
    "So how can we update the weights so as to ensure convergence (ideally in a timely manner)?\n",
    "\n",
    "Enter the gradient from left of stage\n",
    "\n",
    "__TODO__ _replace verbiage below with an amazing analogy, and graphics, that will allow everyone in the audience to gain intuition about gradients with less than 1 minute of exposure_\n",
    "\n",
    "The gradient of a (multivariate) function is a vector of the partial derivatives of that function with respect to each variable.  What we care about is the fact that at any point __X&#173;__ , the gradient of our function at point __X&#173;__ is the direction of greatest change in the function.  Proving this is beyond the scope of this presentation but we can maybe get some intuition by thinking about the following 2 points:\n",
    "\n",
    "- In Euclidean space, the shortest distance between two points is a straight line.  The shortest distance between 2 contour lines (assuming a manifold surface ... and therefore local Euclidean space) will be perpendicular to the first contour line.\n",
    "\n",
    "\n",
    "<img src=\"https://www.researchgate.net/profile/Sumanth_Chennupati/publication/312935261/figure/fig11/AS:454802724397077@1485444827591/Illustration-of-gradient-descent-algorithm-where-steps-are-taken-from-x0-to-x4-in-the.png\" alt=\"Gradient and Contour lines\" title=\"Gradient and Contour lines\" />\n",
    "https://www.researchgate.net/figure/Illustration-of-gradient-descent-algorithm-where-steps-are-taken-from-x0-to-x4-in-the_fig11_312935261\n",
    "\n",
    "\n",
    "- The gradient of a function at point __X&#173;__ is always orthogonal to the level curve (contour line) at that point. https://ocw.mit.edu/courses/mathematics/18-02sc-multivariable-calculus-fall-2010/2.-partial-derivatives/part-b-chain-rule-gradient-and-directional-derivatives/session-36-proof/MIT18_02SC_notes_19.pdf\n",
    "\n",
    "\n",
    "So how can we use the gradient to update our weights?\n",
    "\n",
    "First, let us express our loss function as a function of our model parameters (the weights), __w&#173;__.  \n",
    "\n",
    "$$ L = \\sum(label_i - prediction_i)^2  = \\sum (label_i - wx_i)^2 $$\n",
    "\n",
    "Note that I am using wx instead of mx + b but we see how they are equivalent (add 1 element to w for b and add a corresponding 1 to each input vector).\n",
    "\n",
    "Now, the _jth_ entry in the gradient of our loss function is:\n",
    "\n",
    "$$ \\frac{\\partial L}{\\partial w_j} \\sum_i (label_i - wx_i)^2 = \\frac{\\partial L}{\\partial w_j} \\sum_i U^2 = \\sum_i 2U \\frac{\\partial L}{\\partial w_j}U = \\sum_i 2(label_i - wx_i) \\frac{\\partial L}{\\partial w_j}(label_i - wx_i)$$\n",
    "\n",
    "$$= \\sum_i -2x_{ij}(label_i - wx_i)$$ "
   ]
  },
  {
   "cell_type": "code",
   "execution_count": 12,
   "metadata": {
    "ExecuteTime": {
     "end_time": "2019-02-14T13:54:21.850790Z",
     "start_time": "2019-02-14T13:54:21.844229Z"
    }
   },
   "outputs": [],
   "source": [
    "def batch_train(data,learning_rate, epochs):\n",
    "    w = np.array([0.01,0.5,0.2,0.1])\n",
    "\n",
    "    log_rssz = [log_RSS(data, w)]\n",
    "\n",
    "    for x in range(epochs):\n",
    "        errors = predict_all(norm_data,w) - targets\n",
    "        w -= learning_rate * errors.dot(norm_data)\n",
    "        log_rssz.append(log_RSS(data, w))\n",
    "        \n",
    "    return w,log_rssz\n",
    "\n",
    "def show_it(data, trainer, lrates, epochs):\n",
    "    # Set up a subplot grid that has height 2 and width 1,\n",
    "    # and set the first such subplot as active.\n",
    "    h = math.ceil(len(lrates) / 2.0)\n",
    "    \n",
    "    for i,learn_rate in enumerate(lrates):   \n",
    "        plt.subplot(h, 2, i+1)  #activate the plot\n",
    "        w, log_error = trainer(data, learn_rate, epochs)\n",
    "           \n",
    "        plt.plot(log_error)\n",
    "        plt.title('Learning Rate: ' + str(learn_rate))\n",
    "        plt.xlabel('Epochs')\n",
    "        plt.ylabel('Log RSS')\n",
    "        plt.axis([0, epochs, 0, 20])\n",
    "        plt.tight_layout()\n",
    "    \n",
    "    return plt.show()"
   ]
  },
  {
   "cell_type": "markdown",
   "metadata": {},
   "source": [
    "## Batch Training without normalizing data"
   ]
  },
  {
   "cell_type": "code",
   "execution_count": 133,
   "metadata": {
    "ExecuteTime": {
     "end_time": "2019-02-13T20:03:57.963592Z",
     "start_time": "2019-02-13T20:03:57.285219Z"
    }
   },
   "outputs": [
    {
     "data": {
      "text/html": [
       "<div>\n",
       "<style scoped>\n",
       "    .dataframe tbody tr th:only-of-type {\n",
       "        vertical-align: middle;\n",
       "    }\n",
       "\n",
       "    .dataframe tbody tr th {\n",
       "        vertical-align: top;\n",
       "    }\n",
       "\n",
       "    .dataframe thead th {\n",
       "        text-align: right;\n",
       "    }\n",
       "</style>\n",
       "<table border=\"1\" class=\"dataframe\">\n",
       "  <thead>\n",
       "    <tr style=\"text-align: right;\">\n",
       "      <th></th>\n",
       "      <th>Square Footage</th>\n",
       "      <th># Bathrooms</th>\n",
       "      <th>Avg Neighborhood Price</th>\n",
       "      <th>Bias</th>\n",
       "    </tr>\n",
       "  </thead>\n",
       "  <tbody>\n",
       "    <tr>\n",
       "      <th>0</th>\n",
       "      <td>1000</td>\n",
       "      <td>1</td>\n",
       "      <td>150</td>\n",
       "      <td>1</td>\n",
       "    </tr>\n",
       "    <tr>\n",
       "      <th>1</th>\n",
       "      <td>1500</td>\n",
       "      <td>1</td>\n",
       "      <td>250</td>\n",
       "      <td>1</td>\n",
       "    </tr>\n",
       "    <tr>\n",
       "      <th>2</th>\n",
       "      <td>2000</td>\n",
       "      <td>2</td>\n",
       "      <td>400</td>\n",
       "      <td>1</td>\n",
       "    </tr>\n",
       "    <tr>\n",
       "      <th>3</th>\n",
       "      <td>4000</td>\n",
       "      <td>3</td>\n",
       "      <td>550</td>\n",
       "      <td>1</td>\n",
       "    </tr>\n",
       "  </tbody>\n",
       "</table>\n",
       "</div>"
      ],
      "text/plain": [
       "   Square Footage  # Bathrooms  Avg Neighborhood Price  Bias\n",
       "0            1000            1                     150     1\n",
       "1            1500            1                     250     1\n",
       "2            2000            2                     400     1\n",
       "3            4000            3                     550     1"
      ]
     },
     "metadata": {},
     "output_type": "display_data"
    },
    {
     "data": {
      "image/png": "[encoded data removed]",
      "text/plain": [
       "<Figure size 432x288 with 5 Axes>"
      ]
     },
     "metadata": {
      "needs_background": "light"
     },
     "output_type": "display_data"
    }
   ],
   "source": [
    "display(raw_data)\n",
    "\n",
    "show_it(raw_data, batch_train, [0.001, 0.0001, 0.00001, 0.000001, 0.0000001], 100)"
   ]
  },
  {
   "cell_type": "markdown",
   "metadata": {},
   "source": [
    "## Batch Training with Standardized Data"
   ]
  },
  {
   "cell_type": "code",
   "execution_count": 13,
   "metadata": {
    "ExecuteTime": {
     "end_time": "2019-02-14T13:54:28.433286Z",
     "start_time": "2019-02-14T13:54:26.464469Z"
    }
   },
   "outputs": [
    {
     "data": {
      "image/png": "[encoded data removed]",
      "text/plain": [
       "<Figure size 432x288 with 6 Axes>"
      ]
     },
     "metadata": {
      "needs_background": "light"
     },
     "output_type": "display_data"
    }
   ],
   "source": [
    "show_it(norm_data, batch_train, [0.23,0.225,0.22,0.1,0.01,0.001], 250)"
   ]
  },
  {
   "cell_type": "markdown",
   "metadata": {},
   "source": [
    "## Stochastic Training\n",
    "\n",
    "Can't fit the data set into memory"
   ]
  },
  {
   "cell_type": "code",
   "execution_count": 127,
   "metadata": {
    "ExecuteTime": {
     "end_time": "2019-02-13T19:49:03.685522Z",
     "start_time": "2019-02-13T19:49:01.252121Z"
    }
   },
   "outputs": [
    {
     "data": {
      "image/png": "[encoded data removed]",
      "text/plain": [
       "<Figure size 432x288 with 5 Axes>"
      ]
     },
     "metadata": {
      "needs_background": "light"
     },
     "output_type": "display_data"
    }
   ],
   "source": [
    "def stoch_train(data,lrate, epochs):\n",
    "    w = np.array([0.01,0.5,0.2,0.1])\n",
    "\n",
    "    log_rssz = [log_RSS(norm_data, w)]\n",
    "\n",
    "    for x in range(epochs):\n",
    "        data = norm_data.sample(frac=1)  #shuffle the data\n",
    "    \n",
    "        for i,ex in data.iterrows():\n",
    "            err = targets[i] - ex.dot(w)\n",
    "            w += lrate * (ex*err)\n",
    "        \n",
    "        log_rssz.append(log_RSS(norm_data, w)) #use norm data so that the targets line up with the objects\n",
    "    \n",
    "    return w,log_rssz\n",
    "\n",
    "\n",
    "show_it(norm_data, stoch_train, [0.0001, 0.001, 0.1, 0.3, 0.5], 250)"
   ]
  },
  {
   "cell_type": "markdown",
   "metadata": {},
   "source": [
    "## Mini-batch \n",
    "\n",
    "Left as an exercise for the reader"
   ]
  },
  {
   "cell_type": "markdown",
   "metadata": {},
   "source": [
    "##  Backpropagation"
   ]
  },
  {
   "cell_type": "markdown",
   "metadata": {},
   "source": [
    "How can we use gradient descent to learn the weights of a multilayer neural network?\n",
    "\n",
    "https://en.wikipedia.org/wiki/Backpropagation"
   ]
  },
  {
   "cell_type": "markdown",
   "metadata": {},
   "source": [
    "To show\n",
    "\n",
    "- backprop\n",
    "    - diminishing gradient (why use RELU vs sigmoid)"
   ]
  }
 ],
 "metadata": {
  "kernelspec": {
   "display_name": "Python 3",
   "language": "python",
   "name": "python3"
  },
  "language_info": {
   "codemirror_mode": {
    "name": "ipython",
    "version": 3
   },
   "file_extension": ".py",
   "mimetype": "text/x-python",
   "name": "python",
   "nbconvert_exporter": "python",
   "pygments_lexer": "ipython3",
   "version": "3.7.2"
  },
  "toc": {
   "base_numbering": 1,
   "nav_menu": {},
   "number_sections": true,
   "sideBar": true,
   "skip_h1_title": false,
   "title_cell": "Table of Contents",
   "title_sidebar": "Contents",
   "toc_cell": false,
   "toc_position": {},
   "toc_section_display": true,
   "toc_window_display": false
  }
 },
 "nbformat": 4,
 "nbformat_minor": 2
}
